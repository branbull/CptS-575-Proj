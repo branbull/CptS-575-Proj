{
 "cells": [
  {
   "cell_type": "code",
   "execution_count": 1,
   "metadata": {},
   "outputs": [],
   "source": [
    "import matplotlib.pyplot as plt\n",
    "import numpy as np\n",
    "import pandas as pd\n",
    "import matplotlib\n",
    "import seaborn as sns\n",
    "import os\n",
    "from numpy import asarray\n",
    "from sklearn.preprocessing import OneHotEncoder\n",
    "from datetime import datetime\n",
    "\n",
    "pd.set_option('display.max_columns', None)\n",
    "pd.set_option('display.max_rows', 50)\n",
    "pd.set_option('display.min_rows', 10)\n",
    "\n",
    "#set directory to WSU onedrive\n",
    "\n",
    "os.chdir(r'C:\\Users\\brand\\OneDrive - Washington State University (email.wsu.edu)\\Documents\\CptS_575\\project')\n"
   ]
  },
  {
   "cell_type": "code",
   "execution_count": 2,
   "metadata": {},
   "outputs": [],
   "source": [
    "#import data\n",
    "# sub_lon = pd.read_csv('substation_long_2016_thru_2020.csv')\n",
    "# tot_load = pd.read_csv('total_load_2016_thru_2020.csv')"
   ]
  },
  {
   "cell_type": "code",
   "execution_count": 3,
   "metadata": {},
   "outputs": [],
   "source": [
    "#only mw_hours and temp_f have NAN values\n",
    "#21495 NAN values total\n",
    "#sub_lon.isna().sum()"
   ]
  },
  {
   "cell_type": "code",
   "execution_count": 4,
   "metadata": {},
   "outputs": [],
   "source": [
    "#drops 18365 rows. temp_f only missing where mw_hour also missing\n",
    "#sub_lon = sub_lon.dropna().reset_index(drop = True)"
   ]
  },
  {
   "cell_type": "code",
   "execution_count": 5,
   "metadata": {},
   "outputs": [],
   "source": [
    "# sub_lon.describe()"
   ]
  },
  {
   "cell_type": "code",
   "execution_count": 6,
   "metadata": {},
   "outputs": [],
   "source": [
    "# tot_load.head(3)\n",
    "#total_load has no NA values\n",
    "#tot_load.isnull().values.any()"
   ]
  },
  {
   "cell_type": "code",
   "execution_count": 7,
   "metadata": {},
   "outputs": [],
   "source": [
    "#merge total_load and sub_lon\n",
    "#df = sub_lon.merge(tot_load[['datetime_stamp','total_district_load']], how = 'left', on = 'datetime_stamp')"
   ]
  },
  {
   "cell_type": "code",
   "execution_count": 8,
   "metadata": {},
   "outputs": [],
   "source": [
    "# #missing values handled, now look for outliers\n",
    "# #tips from Peter:\n",
    "\n",
    "# there are 6 negative temperatures that are too extreme\n",
    "\n",
    "# #sort by temp_f, remove 6 outlier temps\n",
    "#df = df.sort_values(by = ['temp_f']).iloc[6:,:]\n",
    "\n",
    "# there should not be any MW-hours in the thousands\n",
    "#df = df[df.mw_hours < 1000]\n",
    "\n",
    "#check for any major spikes in mw_hours or temp_f that might indicate a data error\n",
    "\n",
    "# #assign 0 to values less than .1, else remain the same\n",
    "#df.mw_hours = df.mw_hours.apply(lambda x: 0 if x < .1 else x) \n",
    "\n",
    "# #need to remove observation where 0 appears\n",
    "#df= df[df['mw_hours'] != 0]\n",
    "\n",
    "# #create month\n",
    "# df['Month'] = df['timestamp_utc'].dt.month\n",
    "\n",
    "# #create year\n",
    "# df['Year'] = df['timestamp_utc'].dt.year\n",
    "\n",
    "# #create week\n",
    "# df['Week'] = df['timestamp_utc'].dt.week\n",
    "\n",
    "# #create day of week number\n",
    "# df['DOW_num'] = df['timestamp_utc'].dt.dayofweek\n",
    "\n",
    "# #create 31 days of month\n",
    "# df['DOM'] = df['timestamp_utc'].dt.day\n",
    "\n",
    "# df\n",
    "\n",
    "# df.to_csv('power_cln.csv', index = False)"
   ]
  },
  {
   "cell_type": "code",
   "execution_count": 9,
   "metadata": {},
   "outputs": [
    {
     "data": {
      "text/html": [
       "<div>\n",
       "<style scoped>\n",
       "    .dataframe tbody tr th:only-of-type {\n",
       "        vertical-align: middle;\n",
       "    }\n",
       "\n",
       "    .dataframe tbody tr th {\n",
       "        vertical-align: top;\n",
       "    }\n",
       "\n",
       "    .dataframe thead th {\n",
       "        text-align: right;\n",
       "    }\n",
       "</style>\n",
       "<table border=\"1\" class=\"dataframe\">\n",
       "  <thead>\n",
       "    <tr style=\"text-align: right;\">\n",
       "      <th></th>\n",
       "      <th>datetime_stamp</th>\n",
       "      <th>sub_loc</th>\n",
       "      <th>mw_hours</th>\n",
       "      <th>sub_category</th>\n",
       "      <th>temp_loc</th>\n",
       "      <th>temp_f</th>\n",
       "      <th>total_district_load</th>\n",
       "      <th>Month</th>\n",
       "      <th>Year</th>\n",
       "      <th>Week</th>\n",
       "      <th>DOW_num</th>\n",
       "      <th>DOM</th>\n",
       "    </tr>\n",
       "    <tr>\n",
       "      <th>timestamp_utc</th>\n",
       "      <th></th>\n",
       "      <th></th>\n",
       "      <th></th>\n",
       "      <th></th>\n",
       "      <th></th>\n",
       "      <th></th>\n",
       "      <th></th>\n",
       "      <th></th>\n",
       "      <th></th>\n",
       "      <th></th>\n",
       "      <th></th>\n",
       "      <th></th>\n",
       "    </tr>\n",
       "  </thead>\n",
       "  <tbody>\n",
       "    <tr>\n",
       "      <th>2017-01-04 15:00:00</th>\n",
       "      <td>2017-01-04 07:00:00</td>\n",
       "      <td>b</td>\n",
       "      <td>7.795455</td>\n",
       "      <td>res_rural</td>\n",
       "      <td>b</td>\n",
       "      <td>-13.182692</td>\n",
       "      <td>489.530669</td>\n",
       "      <td>1</td>\n",
       "      <td>2017</td>\n",
       "      <td>1</td>\n",
       "      <td>2</td>\n",
       "      <td>4</td>\n",
       "    </tr>\n",
       "    <tr>\n",
       "      <th>2017-01-04 16:00:00</th>\n",
       "      <td>2017-01-04 08:00:00</td>\n",
       "      <td>b</td>\n",
       "      <td>7.748442</td>\n",
       "      <td>res_rural</td>\n",
       "      <td>b</td>\n",
       "      <td>-13.161539</td>\n",
       "      <td>475.660316</td>\n",
       "      <td>1</td>\n",
       "      <td>2017</td>\n",
       "      <td>1</td>\n",
       "      <td>2</td>\n",
       "      <td>4</td>\n",
       "    </tr>\n",
       "    <tr>\n",
       "      <th>2017-01-04 14:00:00</th>\n",
       "      <td>2017-01-04 06:00:00</td>\n",
       "      <td>b</td>\n",
       "      <td>7.532275</td>\n",
       "      <td>res_rural</td>\n",
       "      <td>b</td>\n",
       "      <td>-12.829167</td>\n",
       "      <td>476.609317</td>\n",
       "      <td>1</td>\n",
       "      <td>2017</td>\n",
       "      <td>1</td>\n",
       "      <td>2</td>\n",
       "      <td>4</td>\n",
       "    </tr>\n",
       "    <tr>\n",
       "      <th>2017-01-07 15:00:00</th>\n",
       "      <td>2017-01-07 07:00:00</td>\n",
       "      <td>b</td>\n",
       "      <td>8.638972</td>\n",
       "      <td>res_rural</td>\n",
       "      <td>b</td>\n",
       "      <td>-12.674039</td>\n",
       "      <td>466.023318</td>\n",
       "      <td>1</td>\n",
       "      <td>2017</td>\n",
       "      <td>1</td>\n",
       "      <td>5</td>\n",
       "      <td>7</td>\n",
       "    </tr>\n",
       "    <tr>\n",
       "      <th>2017-01-07 14:00:00</th>\n",
       "      <td>2017-01-07 06:00:00</td>\n",
       "      <td>b</td>\n",
       "      <td>8.304009</td>\n",
       "      <td>res_rural</td>\n",
       "      <td>b</td>\n",
       "      <td>-12.340385</td>\n",
       "      <td>454.708689</td>\n",
       "      <td>1</td>\n",
       "      <td>2017</td>\n",
       "      <td>1</td>\n",
       "      <td>5</td>\n",
       "      <td>7</td>\n",
       "    </tr>\n",
       "    <tr>\n",
       "      <th>...</th>\n",
       "      <td>...</td>\n",
       "      <td>...</td>\n",
       "      <td>...</td>\n",
       "      <td>...</td>\n",
       "      <td>...</td>\n",
       "      <td>...</td>\n",
       "      <td>...</td>\n",
       "      <td>...</td>\n",
       "      <td>...</td>\n",
       "      <td>...</td>\n",
       "      <td>...</td>\n",
       "      <td>...</td>\n",
       "    </tr>\n",
       "    <tr>\n",
       "      <th>2020-07-31 23:00:00</th>\n",
       "      <td>2020-07-31 16:00:00</td>\n",
       "      <td>f</td>\n",
       "      <td>10.582432</td>\n",
       "      <td>res_urban</td>\n",
       "      <td>e</td>\n",
       "      <td>111.198453</td>\n",
       "      <td>254.931262</td>\n",
       "      <td>7</td>\n",
       "      <td>2020</td>\n",
       "      <td>31</td>\n",
       "      <td>4</td>\n",
       "      <td>31</td>\n",
       "    </tr>\n",
       "    <tr>\n",
       "      <th>2020-07-31 23:00:00</th>\n",
       "      <td>2020-07-31 16:00:00</td>\n",
       "      <td>i</td>\n",
       "      <td>7.347355</td>\n",
       "      <td>commercial</td>\n",
       "      <td>e</td>\n",
       "      <td>111.198453</td>\n",
       "      <td>254.931262</td>\n",
       "      <td>7</td>\n",
       "      <td>2020</td>\n",
       "      <td>31</td>\n",
       "      <td>4</td>\n",
       "      <td>31</td>\n",
       "    </tr>\n",
       "    <tr>\n",
       "      <th>2020-07-31 23:00:00</th>\n",
       "      <td>2020-07-31 16:00:00</td>\n",
       "      <td>g</td>\n",
       "      <td>13.109431</td>\n",
       "      <td>industrial</td>\n",
       "      <td>e</td>\n",
       "      <td>111.198453</td>\n",
       "      <td>254.931262</td>\n",
       "      <td>7</td>\n",
       "      <td>2020</td>\n",
       "      <td>31</td>\n",
       "      <td>4</td>\n",
       "      <td>31</td>\n",
       "    </tr>\n",
       "    <tr>\n",
       "      <th>2020-07-31 23:00:00</th>\n",
       "      <td>2020-07-31 16:00:00</td>\n",
       "      <td>j</td>\n",
       "      <td>15.703228</td>\n",
       "      <td>commercial</td>\n",
       "      <td>e</td>\n",
       "      <td>111.198453</td>\n",
       "      <td>254.931262</td>\n",
       "      <td>7</td>\n",
       "      <td>2020</td>\n",
       "      <td>31</td>\n",
       "      <td>4</td>\n",
       "      <td>31</td>\n",
       "    </tr>\n",
       "    <tr>\n",
       "      <th>2020-07-31 23:00:00</th>\n",
       "      <td>2020-07-31 16:00:00</td>\n",
       "      <td>e</td>\n",
       "      <td>15.992570</td>\n",
       "      <td>res_urban</td>\n",
       "      <td>e</td>\n",
       "      <td>111.198453</td>\n",
       "      <td>254.931262</td>\n",
       "      <td>7</td>\n",
       "      <td>2020</td>\n",
       "      <td>31</td>\n",
       "      <td>4</td>\n",
       "      <td>31</td>\n",
       "    </tr>\n",
       "  </tbody>\n",
       "</table>\n",
       "<p>414241 rows × 12 columns</p>\n",
       "</div>"
      ],
      "text/plain": [
       "                          datetime_stamp sub_loc   mw_hours sub_category  \\\n",
       "timestamp_utc                                                              \n",
       "2017-01-04 15:00:00  2017-01-04 07:00:00       b   7.795455    res_rural   \n",
       "2017-01-04 16:00:00  2017-01-04 08:00:00       b   7.748442    res_rural   \n",
       "2017-01-04 14:00:00  2017-01-04 06:00:00       b   7.532275    res_rural   \n",
       "2017-01-07 15:00:00  2017-01-07 07:00:00       b   8.638972    res_rural   \n",
       "2017-01-07 14:00:00  2017-01-07 06:00:00       b   8.304009    res_rural   \n",
       "...                                  ...     ...        ...          ...   \n",
       "2020-07-31 23:00:00  2020-07-31 16:00:00       f  10.582432    res_urban   \n",
       "2020-07-31 23:00:00  2020-07-31 16:00:00       i   7.347355   commercial   \n",
       "2020-07-31 23:00:00  2020-07-31 16:00:00       g  13.109431   industrial   \n",
       "2020-07-31 23:00:00  2020-07-31 16:00:00       j  15.703228   commercial   \n",
       "2020-07-31 23:00:00  2020-07-31 16:00:00       e  15.992570    res_urban   \n",
       "\n",
       "                    temp_loc      temp_f  total_district_load  Month  Year  \\\n",
       "timestamp_utc                                                                \n",
       "2017-01-04 15:00:00        b  -13.182692           489.530669      1  2017   \n",
       "2017-01-04 16:00:00        b  -13.161539           475.660316      1  2017   \n",
       "2017-01-04 14:00:00        b  -12.829167           476.609317      1  2017   \n",
       "2017-01-07 15:00:00        b  -12.674039           466.023318      1  2017   \n",
       "2017-01-07 14:00:00        b  -12.340385           454.708689      1  2017   \n",
       "...                      ...         ...                  ...    ...   ...   \n",
       "2020-07-31 23:00:00        e  111.198453           254.931262      7  2020   \n",
       "2020-07-31 23:00:00        e  111.198453           254.931262      7  2020   \n",
       "2020-07-31 23:00:00        e  111.198453           254.931262      7  2020   \n",
       "2020-07-31 23:00:00        e  111.198453           254.931262      7  2020   \n",
       "2020-07-31 23:00:00        e  111.198453           254.931262      7  2020   \n",
       "\n",
       "                     Week  DOW_num  DOM  \n",
       "timestamp_utc                            \n",
       "2017-01-04 15:00:00     1        2    4  \n",
       "2017-01-04 16:00:00     1        2    4  \n",
       "2017-01-04 14:00:00     1        2    4  \n",
       "2017-01-07 15:00:00     1        5    7  \n",
       "2017-01-07 14:00:00     1        5    7  \n",
       "...                   ...      ...  ...  \n",
       "2020-07-31 23:00:00    31        4   31  \n",
       "2020-07-31 23:00:00    31        4   31  \n",
       "2020-07-31 23:00:00    31        4   31  \n",
       "2020-07-31 23:00:00    31        4   31  \n",
       "2020-07-31 23:00:00    31        4   31  \n",
       "\n",
       "[414241 rows x 12 columns]"
      ]
     },
     "execution_count": 9,
     "metadata": {},
     "output_type": "execute_result"
    }
   ],
   "source": [
    "df = pd.read_csv('power_cln.csv', infer_datetime_format = True, parse_dates = ['timestamp_utc'],index_col = ['timestamp_utc'])\n",
    "df"
   ]
  },
  {
   "cell_type": "code",
   "execution_count": 10,
   "metadata": {},
   "outputs": [],
   "source": [
    "#df['timestamp_utc'] = pd.to_datetime(df['timestamp_utc']).dt.tz_localize(None)"
   ]
  },
  {
   "cell_type": "code",
   "execution_count": 80,
   "metadata": {},
   "outputs": [],
   "source": [
    "dailydata = df.resample('D').mean()"
   ]
  },
  {
   "cell_type": "code",
   "execution_count": 81,
   "metadata": {},
   "outputs": [
    {
     "data": {
      "text/html": [
       "<div>\n",
       "<style scoped>\n",
       "    .dataframe tbody tr th:only-of-type {\n",
       "        vertical-align: middle;\n",
       "    }\n",
       "\n",
       "    .dataframe tbody tr th {\n",
       "        vertical-align: top;\n",
       "    }\n",
       "\n",
       "    .dataframe thead th {\n",
       "        text-align: right;\n",
       "    }\n",
       "</style>\n",
       "<table border=\"1\" class=\"dataframe\">\n",
       "  <thead>\n",
       "    <tr style=\"text-align: right;\">\n",
       "      <th></th>\n",
       "      <th>mw_hours</th>\n",
       "      <th>temp_f</th>\n",
       "      <th>total_district_load</th>\n",
       "      <th>Month</th>\n",
       "      <th>Year</th>\n",
       "      <th>Week</th>\n",
       "      <th>DOW_num</th>\n",
       "      <th>DOM</th>\n",
       "      <th>temp&lt;60</th>\n",
       "      <th>temp&gt;60</th>\n",
       "    </tr>\n",
       "    <tr>\n",
       "      <th>timestamp_utc</th>\n",
       "      <th></th>\n",
       "      <th></th>\n",
       "      <th></th>\n",
       "      <th></th>\n",
       "      <th></th>\n",
       "      <th></th>\n",
       "      <th></th>\n",
       "      <th></th>\n",
       "      <th></th>\n",
       "      <th></th>\n",
       "    </tr>\n",
       "  </thead>\n",
       "  <tbody>\n",
       "    <tr>\n",
       "      <th>2016-01-01</th>\n",
       "      <td>12.205048</td>\n",
       "      <td>8.263954</td>\n",
       "      <td>370.133319</td>\n",
       "      <td>1.0</td>\n",
       "      <td>2016.0</td>\n",
       "      <td>53.0</td>\n",
       "      <td>4.0</td>\n",
       "      <td>1.0</td>\n",
       "      <td>1.0</td>\n",
       "      <td>0.0</td>\n",
       "    </tr>\n",
       "    <tr>\n",
       "      <th>2016-01-02</th>\n",
       "      <td>11.893200</td>\n",
       "      <td>13.063444</td>\n",
       "      <td>353.050494</td>\n",
       "      <td>1.0</td>\n",
       "      <td>2016.0</td>\n",
       "      <td>53.0</td>\n",
       "      <td>5.0</td>\n",
       "      <td>2.0</td>\n",
       "      <td>1.0</td>\n",
       "      <td>0.0</td>\n",
       "    </tr>\n",
       "    <tr>\n",
       "      <th>2016-01-03</th>\n",
       "      <td>12.119996</td>\n",
       "      <td>11.401546</td>\n",
       "      <td>360.817631</td>\n",
       "      <td>1.0</td>\n",
       "      <td>2016.0</td>\n",
       "      <td>53.0</td>\n",
       "      <td>6.0</td>\n",
       "      <td>3.0</td>\n",
       "      <td>1.0</td>\n",
       "      <td>0.0</td>\n",
       "    </tr>\n",
       "    <tr>\n",
       "      <th>2016-01-04</th>\n",
       "      <td>11.591366</td>\n",
       "      <td>19.790247</td>\n",
       "      <td>328.596417</td>\n",
       "      <td>1.0</td>\n",
       "      <td>2016.0</td>\n",
       "      <td>1.0</td>\n",
       "      <td>0.0</td>\n",
       "      <td>4.0</td>\n",
       "      <td>1.0</td>\n",
       "      <td>0.0</td>\n",
       "    </tr>\n",
       "    <tr>\n",
       "      <th>2016-01-05</th>\n",
       "      <td>10.796844</td>\n",
       "      <td>26.704236</td>\n",
       "      <td>295.952990</td>\n",
       "      <td>1.0</td>\n",
       "      <td>2016.0</td>\n",
       "      <td>1.0</td>\n",
       "      <td>1.0</td>\n",
       "      <td>5.0</td>\n",
       "      <td>1.0</td>\n",
       "      <td>0.0</td>\n",
       "    </tr>\n",
       "    <tr>\n",
       "      <th>...</th>\n",
       "      <td>...</td>\n",
       "      <td>...</td>\n",
       "      <td>...</td>\n",
       "      <td>...</td>\n",
       "      <td>...</td>\n",
       "      <td>...</td>\n",
       "      <td>...</td>\n",
       "      <td>...</td>\n",
       "      <td>...</td>\n",
       "      <td>...</td>\n",
       "    </tr>\n",
       "    <tr>\n",
       "      <th>2020-12-27</th>\n",
       "      <td>9.925608</td>\n",
       "      <td>28.648143</td>\n",
       "      <td>290.509496</td>\n",
       "      <td>12.0</td>\n",
       "      <td>2020.0</td>\n",
       "      <td>52.0</td>\n",
       "      <td>6.0</td>\n",
       "      <td>27.0</td>\n",
       "      <td>1.0</td>\n",
       "      <td>0.0</td>\n",
       "    </tr>\n",
       "    <tr>\n",
       "      <th>2020-12-28</th>\n",
       "      <td>9.941870</td>\n",
       "      <td>31.040838</td>\n",
       "      <td>283.397666</td>\n",
       "      <td>12.0</td>\n",
       "      <td>2020.0</td>\n",
       "      <td>53.0</td>\n",
       "      <td>0.0</td>\n",
       "      <td>28.0</td>\n",
       "      <td>1.0</td>\n",
       "      <td>0.0</td>\n",
       "    </tr>\n",
       "    <tr>\n",
       "      <th>2020-12-29</th>\n",
       "      <td>10.250505</td>\n",
       "      <td>30.157879</td>\n",
       "      <td>290.697239</td>\n",
       "      <td>12.0</td>\n",
       "      <td>2020.0</td>\n",
       "      <td>53.0</td>\n",
       "      <td>1.0</td>\n",
       "      <td>29.0</td>\n",
       "      <td>1.0</td>\n",
       "      <td>0.0</td>\n",
       "    </tr>\n",
       "    <tr>\n",
       "      <th>2020-12-30</th>\n",
       "      <td>10.402324</td>\n",
       "      <td>30.102009</td>\n",
       "      <td>294.994366</td>\n",
       "      <td>12.0</td>\n",
       "      <td>2020.0</td>\n",
       "      <td>53.0</td>\n",
       "      <td>2.0</td>\n",
       "      <td>30.0</td>\n",
       "      <td>1.0</td>\n",
       "      <td>0.0</td>\n",
       "    </tr>\n",
       "    <tr>\n",
       "      <th>2020-12-31</th>\n",
       "      <td>10.356145</td>\n",
       "      <td>29.467279</td>\n",
       "      <td>294.619568</td>\n",
       "      <td>12.0</td>\n",
       "      <td>2020.0</td>\n",
       "      <td>53.0</td>\n",
       "      <td>3.0</td>\n",
       "      <td>31.0</td>\n",
       "      <td>1.0</td>\n",
       "      <td>0.0</td>\n",
       "    </tr>\n",
       "  </tbody>\n",
       "</table>\n",
       "<p>1827 rows × 10 columns</p>\n",
       "</div>"
      ],
      "text/plain": [
       "                mw_hours     temp_f  total_district_load  Month    Year  Week  \\\n",
       "timestamp_utc                                                                   \n",
       "2016-01-01     12.205048   8.263954           370.133319    1.0  2016.0  53.0   \n",
       "2016-01-02     11.893200  13.063444           353.050494    1.0  2016.0  53.0   \n",
       "2016-01-03     12.119996  11.401546           360.817631    1.0  2016.0  53.0   \n",
       "2016-01-04     11.591366  19.790247           328.596417    1.0  2016.0   1.0   \n",
       "2016-01-05     10.796844  26.704236           295.952990    1.0  2016.0   1.0   \n",
       "...                  ...        ...                  ...    ...     ...   ...   \n",
       "2020-12-27      9.925608  28.648143           290.509496   12.0  2020.0  52.0   \n",
       "2020-12-28      9.941870  31.040838           283.397666   12.0  2020.0  53.0   \n",
       "2020-12-29     10.250505  30.157879           290.697239   12.0  2020.0  53.0   \n",
       "2020-12-30     10.402324  30.102009           294.994366   12.0  2020.0  53.0   \n",
       "2020-12-31     10.356145  29.467279           294.619568   12.0  2020.0  53.0   \n",
       "\n",
       "               DOW_num   DOM  temp<60  temp>60  \n",
       "timestamp_utc                                   \n",
       "2016-01-01         4.0   1.0      1.0      0.0  \n",
       "2016-01-02         5.0   2.0      1.0      0.0  \n",
       "2016-01-03         6.0   3.0      1.0      0.0  \n",
       "2016-01-04         0.0   4.0      1.0      0.0  \n",
       "2016-01-05         1.0   5.0      1.0      0.0  \n",
       "...                ...   ...      ...      ...  \n",
       "2020-12-27         6.0  27.0      1.0      0.0  \n",
       "2020-12-28         0.0  28.0      1.0      0.0  \n",
       "2020-12-29         1.0  29.0      1.0      0.0  \n",
       "2020-12-30         2.0  30.0      1.0      0.0  \n",
       "2020-12-31         3.0  31.0      1.0      0.0  \n",
       "\n",
       "[1827 rows x 10 columns]"
      ]
     },
     "execution_count": 81,
     "metadata": {},
     "output_type": "execute_result"
    }
   ],
   "source": [
    "dailydata"
   ]
  },
  {
   "cell_type": "code",
   "execution_count": 82,
   "metadata": {},
   "outputs": [
    {
     "data": {
      "text/plain": [
       "[<matplotlib.lines.Line2D at 0x2ad8e59b1c0>]"
      ]
     },
     "execution_count": 82,
     "metadata": {},
     "output_type": "execute_result"
    },
    {
     "data": {
      "image/png": "[encoded data removed]",
      "text/plain": [
       "<Figure size 1080x720 with 1 Axes>"
      ]
     },
     "metadata": {
      "needs_background": "light"
     },
     "output_type": "display_data"
    }
   ],
   "source": [
    "#pattern of overall power usage\n",
    "import matplotlib.pyplot as plt\n",
    "plt.figure(figsize = (15,10))\n",
    "plt.plot(dailydata['total_district_load'])"
   ]
  },
  {
   "cell_type": "code",
   "execution_count": 14,
   "metadata": {},
   "outputs": [],
   "source": [
    "#df['date'] = df.timestamp_utc.datetime.now().date()"
   ]
  },
  {
   "cell_type": "code",
   "execution_count": 15,
   "metadata": {},
   "outputs": [],
   "source": [
    "df = df[df['Year'] != 2021]"
   ]
  },
  {
   "cell_type": "code",
   "execution_count": 16,
   "metadata": {},
   "outputs": [
    {
     "data": {
      "text/plain": [
       "datetime_stamp          object\n",
       "sub_loc                 object\n",
       "mw_hours               float64\n",
       "sub_category            object\n",
       "temp_loc                object\n",
       "temp_f                 float64\n",
       "total_district_load    float64\n",
       "Month                    int64\n",
       "Year                     int64\n",
       "Week                     int64\n",
       "DOW_num                  int64\n",
       "DOM                      int64\n",
       "dtype: object"
      ]
     },
     "execution_count": 16,
     "metadata": {},
     "output_type": "execute_result"
    }
   ],
   "source": [
    "df.dtypes"
   ]
  },
  {
   "cell_type": "code",
   "execution_count": 17,
   "metadata": {},
   "outputs": [
    {
     "data": {
      "text/html": [
       "<div>\n",
       "<style scoped>\n",
       "    .dataframe tbody tr th:only-of-type {\n",
       "        vertical-align: middle;\n",
       "    }\n",
       "\n",
       "    .dataframe tbody tr th {\n",
       "        vertical-align: top;\n",
       "    }\n",
       "\n",
       "    .dataframe thead th {\n",
       "        text-align: right;\n",
       "    }\n",
       "</style>\n",
       "<table border=\"1\" class=\"dataframe\">\n",
       "  <thead>\n",
       "    <tr style=\"text-align: right;\">\n",
       "      <th></th>\n",
       "      <th>mw_hours</th>\n",
       "      <th>temp_f</th>\n",
       "      <th>total_district_load</th>\n",
       "      <th>Month</th>\n",
       "      <th>Week</th>\n",
       "      <th>DOW_num</th>\n",
       "      <th>DOM</th>\n",
       "    </tr>\n",
       "    <tr>\n",
       "      <th>Year</th>\n",
       "      <th></th>\n",
       "      <th></th>\n",
       "      <th></th>\n",
       "      <th></th>\n",
       "      <th></th>\n",
       "      <th></th>\n",
       "      <th></th>\n",
       "    </tr>\n",
       "  </thead>\n",
       "  <tbody>\n",
       "    <tr>\n",
       "      <th>2016</th>\n",
       "      <td>576256.275810</td>\n",
       "      <td>3.899375e+06</td>\n",
       "      <td>1.421574e+07</td>\n",
       "      <td>505631</td>\n",
       "      <td>2066692</td>\n",
       "      <td>227699</td>\n",
       "      <td>1196971</td>\n",
       "    </tr>\n",
       "    <tr>\n",
       "      <th>2017</th>\n",
       "      <td>670587.350464</td>\n",
       "      <td>4.011917e+06</td>\n",
       "      <td>1.676599e+07</td>\n",
       "      <td>535813</td>\n",
       "      <td>2184583</td>\n",
       "      <td>242220</td>\n",
       "      <td>1266849</td>\n",
       "    </tr>\n",
       "    <tr>\n",
       "      <th>2018</th>\n",
       "      <td>659841.803632</td>\n",
       "      <td>4.311389e+06</td>\n",
       "      <td>1.660306e+07</td>\n",
       "      <td>544875</td>\n",
       "      <td>2204448</td>\n",
       "      <td>252563</td>\n",
       "      <td>1327611</td>\n",
       "    </tr>\n",
       "    <tr>\n",
       "      <th>2019</th>\n",
       "      <td>705163.382018</td>\n",
       "      <td>4.274842e+06</td>\n",
       "      <td>1.786752e+07</td>\n",
       "      <td>564580</td>\n",
       "      <td>2285588</td>\n",
       "      <td>260279</td>\n",
       "      <td>1365809</td>\n",
       "    </tr>\n",
       "    <tr>\n",
       "      <th>2020</th>\n",
       "      <td>662093.776079</td>\n",
       "      <td>4.443585e+06</td>\n",
       "      <td>1.722859e+07</td>\n",
       "      <td>562875</td>\n",
       "      <td>2327109</td>\n",
       "      <td>260037</td>\n",
       "      <td>1368870</td>\n",
       "    </tr>\n",
       "  </tbody>\n",
       "</table>\n",
       "</div>"
      ],
      "text/plain": [
       "           mw_hours        temp_f  total_district_load   Month     Week  \\\n",
       "Year                                                                      \n",
       "2016  576256.275810  3.899375e+06         1.421574e+07  505631  2066692   \n",
       "2017  670587.350464  4.011917e+06         1.676599e+07  535813  2184583   \n",
       "2018  659841.803632  4.311389e+06         1.660306e+07  544875  2204448   \n",
       "2019  705163.382018  4.274842e+06         1.786752e+07  564580  2285588   \n",
       "2020  662093.776079  4.443585e+06         1.722859e+07  562875  2327109   \n",
       "\n",
       "      DOW_num      DOM  \n",
       "Year                    \n",
       "2016   227699  1196971  \n",
       "2017   242220  1266849  \n",
       "2018   252563  1327611  \n",
       "2019   260279  1365809  \n",
       "2020   260037  1368870  "
      ]
     },
     "execution_count": 17,
     "metadata": {},
     "output_type": "execute_result"
    }
   ],
   "source": [
    "df.groupby('Year').sum()"
   ]
  },
  {
   "cell_type": "code",
   "execution_count": null,
   "metadata": {},
   "outputs": [],
   "source": []
  },
  {
   "cell_type": "code",
   "execution_count": 18,
   "metadata": {},
   "outputs": [
    {
     "data": {
      "image/png": "[encoded data removed]",
      "text/plain": [
       "<Figure size 432x288 with 1 Axes>"
      ]
     },
     "metadata": {
      "needs_background": "light"
     },
     "output_type": "display_data"
    }
   ],
   "source": [
    "#what sub location has expereinced the most growth in mw_hours 2016-2020?\n",
    "from matplotlib import pyplot as plt\n",
    "\n",
    "dfyearsum = df.groupby(['Year','sub_loc'], as_index = False)['mw_hours'].sum()\n",
    "\n",
    "fig, ax = plt.subplots()\n",
    "\n",
    "# key gives the group name (i.e. category), data gives the actual values\n",
    "for key, data in dfyearsum.groupby('sub_loc'):\n",
    "    data.plot(x='Year', y='mw_hours', ax=ax, label=key)"
   ]
  },
  {
   "cell_type": "code",
   "execution_count": 21,
   "metadata": {},
   "outputs": [
    {
     "data": {
      "text/plain": [
       "<AxesSubplot:xlabel='temp_f', ylabel='total_district_load'>"
      ]
     },
     "execution_count": 21,
     "metadata": {},
     "output_type": "execute_result"
    },
    {
     "data": {
      "image/png": "[encoded data removed]",
      "text/plain": [
       "<Figure size 432x288 with 1 Axes>"
      ]
     },
     "metadata": {
      "needs_background": "light"
     },
     "output_type": "display_data"
    }
   ],
   "source": [
    "#how does energy use change with respect to temperature in 2019? Extremes demand most power, winter more power overall\n",
    "#must control for temp > and temp < 60?\n",
    "import seaborn as sns\n",
    "df2019 = df[df['Year'] == 2019]\n",
    "sns.lineplot(data = df2019, x = 'temp_f', y = 'total_district_load', )"
   ]
  },
  {
   "cell_type": "code",
   "execution_count": 22,
   "metadata": {},
   "outputs": [
    {
     "name": "stderr",
     "output_type": "stream",
     "text": [
      "<ipython-input-22-0f90ee4ad6c5>:3: SettingWithCopyWarning: \n",
      "A value is trying to be set on a copy of a slice from a DataFrame.\n",
      "Try using .loc[row_indexer,col_indexer] = value instead\n",
      "\n",
      "See the caveats in the documentation: https://pandas.pydata.org/pandas-docs/stable/user_guide/indexing.html#returning-a-view-versus-a-copy\n",
      "  df['temp<60'] = df.temp_f.apply(lambda x: 1 if x < 60 else 0)\n",
      "<ipython-input-22-0f90ee4ad6c5>:4: SettingWithCopyWarning: \n",
      "A value is trying to be set on a copy of a slice from a DataFrame.\n",
      "Try using .loc[row_indexer,col_indexer] = value instead\n",
      "\n",
      "See the caveats in the documentation: https://pandas.pydata.org/pandas-docs/stable/user_guide/indexing.html#returning-a-view-versus-a-copy\n",
      "  df['temp>60'] = df.temp_f.apply(lambda x: 1 if x > 60 else 0)\n"
     ]
    }
   ],
   "source": [
    "#create dummy vars for temp ranges\n",
    "#ideally could create var 'degrees below/above 60 to more accurately capture relationship'\n",
    "df['temp<60'] = df.temp_f.apply(lambda x: 1 if x < 60 else 0)\n",
    "df['temp>60'] = df.temp_f.apply(lambda x: 1 if x > 60 else 0)"
   ]
  },
  {
   "cell_type": "code",
   "execution_count": 23,
   "metadata": {},
   "outputs": [],
   "source": [
    "from sklearn.metrics import mean_squared_error"
   ]
  },
  {
   "cell_type": "code",
   "execution_count": 24,
   "metadata": {},
   "outputs": [],
   "source": [
    "def forecasts(act,pred):\n",
    "    scores=[]\n",
    "    for i in range(act.shape[1]):\n",
    "        mse=mean_squared_error(act[:,i],pred[:,i])\n",
    "        rmse=np.sqrt(mse)\n",
    "        scores.append(rmse)\n",
    "    s=0\n",
    "    for row in range(act.shape[0]):\n",
    "        for col in range(act.shape[1]):\n",
    "            s+=(act[row,col]-pred[row,col])**2\n",
    "    score=np.sqrt(s/(act.shape[0]*act.shape[1]))\n",
    "    return score,scores"
   ]
  },
  {
   "cell_type": "code",
   "execution_count": 40,
   "metadata": {},
   "outputs": [],
   "source": [
    "#AFTER THIS POINT NO PREDICTION MODELS BELOW ARE USED IN THE PAPER\n",
    "#POINT OF FUTURE WORK\n",
    "dailydata = dailydata[dailydata['Year'] != 2021]"
   ]
  },
  {
   "cell_type": "code",
   "execution_count": 104,
   "metadata": {},
   "outputs": [],
   "source": [
    "from sklearn.model_selection import train_test_split\n",
    "X = dailydata.drop(columns = ['total_district_load','mw_hours','Month','Week','DOW_num','DOM'])\n",
    "y = dailydata['total_district_load']"
   ]
  },
  {
   "cell_type": "code",
   "execution_count": 78,
   "metadata": {},
   "outputs": [],
   "source": [
    "X_train, X_test, y_train, y_test = train_test_split(X, y, test_size=0.33, random_state=69)"
   ]
  },
  {
   "cell_type": "code",
   "execution_count": 106,
   "metadata": {},
   "outputs": [],
   "source": [
    "import sklearn.metrics as metrics\n",
    "def regression_results(y_true, y_pred):\n",
    "    # Regression metrics\n",
    "    explained_variance=metrics.explained_variance_score(y_true, y_pred)\n",
    "    mean_absolute_error=metrics.mean_absolute_error(y_true, y_pred) \n",
    "    mse=metrics.mean_squared_error(y_true, y_pred) \n",
    "    mean_squared_log_error=metrics.mean_squared_log_error(y_true, y_pred)\n",
    "    median_absolute_error=metrics.median_absolute_error(y_true, y_pred)\n",
    "    r2=metrics.r2_score(y_true, y_pred)\n",
    "    print('explained_variance: ', round(explained_variance,4))    \n",
    "    print('mean_squared_log_error: ', round(mean_squared_log_error,4))\n",
    "    print('r2: ', round(r2,4))\n",
    "    print('MAE: ', round(mean_absolute_error,4))\n",
    "    print('MSE: ', round(mse,4))\n",
    "    print('RMSE: ', round(np.sqrt(mse),4))"
   ]
  },
  {
   "cell_type": "code",
   "execution_count": 149,
   "metadata": {},
   "outputs": [
    {
     "name": "stderr",
     "output_type": "stream",
     "text": [
      "C:\\Users\\brand\\Anaconda3\\lib\\site-packages\\pandas\\core\\indexing.py:1596: SettingWithCopyWarning: \n",
      "A value is trying to be set on a copy of a slice from a DataFrame.\n",
      "Try using .loc[row_indexer,col_indexer] = value instead\n",
      "\n",
      "See the caveats in the documentation: https://pandas.pydata.org/pandas-docs/stable/user_guide/indexing.html#returning-a-view-versus-a-copy\n",
      "  self.obj[key] = _infer_fill_value(value)\n",
      "C:\\Users\\brand\\Anaconda3\\lib\\site-packages\\pandas\\core\\indexing.py:1783: SettingWithCopyWarning: \n",
      "A value is trying to be set on a copy of a slice from a DataFrame.\n",
      "Try using .loc[row_indexer,col_indexer] = value instead\n",
      "\n",
      "See the caveats in the documentation: https://pandas.pydata.org/pandas-docs/stable/user_guide/indexing.html#returning-a-view-versus-a-copy\n",
      "  self.obj[item_labels[indexer[info_axis]]] = value\n"
     ]
    }
   ],
   "source": [
    "# create new df from total_district_load column\n",
    "tdl_model = dailydata[['total_district_load']]\n",
    "\n",
    "#insert new col with previous day's tdl values\n",
    "tdl_model.loc[:,'tdl-1'] = tdl_model.loc[:,'total_district_load'].shift()\n",
    "\n",
    "#difference between yesterday and day before yesterday's tdl values.\n",
    "tdl_model.loc[:,'tdl_diff'] = tdl_model.loc[:,'Yesterday'].diff()\n",
    "\n",
    "#drop NA\n",
    "tdl_model = tdl_model.dropna()"
   ]
  },
  {
   "cell_type": "code",
   "execution_count": 150,
   "metadata": {},
   "outputs": [],
   "source": [
    "#add back temp_f data to model\n",
    "tdl_model = tdl_model.merge(dailydata['temp_f'], on= 'timestamp_utc', how = 'left')"
   ]
  },
  {
   "cell_type": "code",
   "execution_count": 137,
   "metadata": {},
   "outputs": [
    {
     "data": {
      "text/html": [
       "<div>\n",
       "<style scoped>\n",
       "    .dataframe tbody tr th:only-of-type {\n",
       "        vertical-align: middle;\n",
       "    }\n",
       "\n",
       "    .dataframe tbody tr th {\n",
       "        vertical-align: top;\n",
       "    }\n",
       "\n",
       "    .dataframe thead th {\n",
       "        text-align: right;\n",
       "    }\n",
       "</style>\n",
       "<table border=\"1\" class=\"dataframe\">\n",
       "  <thead>\n",
       "    <tr style=\"text-align: right;\">\n",
       "      <th></th>\n",
       "      <th>total_district_load</th>\n",
       "      <th>Yesterday</th>\n",
       "      <th>Yesterday_Diff</th>\n",
       "      <th>temp_f</th>\n",
       "    </tr>\n",
       "    <tr>\n",
       "      <th>timestamp_utc</th>\n",
       "      <th></th>\n",
       "      <th></th>\n",
       "      <th></th>\n",
       "      <th></th>\n",
       "    </tr>\n",
       "  </thead>\n",
       "  <tbody>\n",
       "    <tr>\n",
       "      <th>2016-01-03</th>\n",
       "      <td>360.817631</td>\n",
       "      <td>353.050494</td>\n",
       "      <td>-17.082825</td>\n",
       "      <td>11.401546</td>\n",
       "    </tr>\n",
       "    <tr>\n",
       "      <th>2016-01-04</th>\n",
       "      <td>328.596417</td>\n",
       "      <td>360.817631</td>\n",
       "      <td>7.767137</td>\n",
       "      <td>19.790247</td>\n",
       "    </tr>\n",
       "    <tr>\n",
       "      <th>2016-01-05</th>\n",
       "      <td>295.952990</td>\n",
       "      <td>328.596417</td>\n",
       "      <td>-32.221214</td>\n",
       "      <td>26.704236</td>\n",
       "    </tr>\n",
       "    <tr>\n",
       "      <th>2016-01-06</th>\n",
       "      <td>276.679230</td>\n",
       "      <td>295.952990</td>\n",
       "      <td>-32.643427</td>\n",
       "      <td>30.536873</td>\n",
       "    </tr>\n",
       "    <tr>\n",
       "      <th>2016-01-07</th>\n",
       "      <td>265.646793</td>\n",
       "      <td>276.679230</td>\n",
       "      <td>-19.273760</td>\n",
       "      <td>31.904408</td>\n",
       "    </tr>\n",
       "    <tr>\n",
       "      <th>...</th>\n",
       "      <td>...</td>\n",
       "      <td>...</td>\n",
       "      <td>...</td>\n",
       "      <td>...</td>\n",
       "    </tr>\n",
       "    <tr>\n",
       "      <th>2020-12-27</th>\n",
       "      <td>290.509496</td>\n",
       "      <td>292.314847</td>\n",
       "      <td>-16.914866</td>\n",
       "      <td>28.648143</td>\n",
       "    </tr>\n",
       "    <tr>\n",
       "      <th>2020-12-28</th>\n",
       "      <td>283.397666</td>\n",
       "      <td>290.509496</td>\n",
       "      <td>-1.805351</td>\n",
       "      <td>31.040838</td>\n",
       "    </tr>\n",
       "    <tr>\n",
       "      <th>2020-12-29</th>\n",
       "      <td>290.697239</td>\n",
       "      <td>283.397666</td>\n",
       "      <td>-7.111830</td>\n",
       "      <td>30.157879</td>\n",
       "    </tr>\n",
       "    <tr>\n",
       "      <th>2020-12-30</th>\n",
       "      <td>294.994366</td>\n",
       "      <td>290.697239</td>\n",
       "      <td>7.299573</td>\n",
       "      <td>30.102009</td>\n",
       "    </tr>\n",
       "    <tr>\n",
       "      <th>2020-12-31</th>\n",
       "      <td>294.619568</td>\n",
       "      <td>294.994366</td>\n",
       "      <td>4.297127</td>\n",
       "      <td>29.467279</td>\n",
       "    </tr>\n",
       "  </tbody>\n",
       "</table>\n",
       "<p>1825 rows × 4 columns</p>\n",
       "</div>"
      ],
      "text/plain": [
       "               total_district_load   Yesterday  Yesterday_Diff     temp_f\n",
       "timestamp_utc                                                            \n",
       "2016-01-03              360.817631  353.050494      -17.082825  11.401546\n",
       "2016-01-04              328.596417  360.817631        7.767137  19.790247\n",
       "2016-01-05              295.952990  328.596417      -32.221214  26.704236\n",
       "2016-01-06              276.679230  295.952990      -32.643427  30.536873\n",
       "2016-01-07              265.646793  276.679230      -19.273760  31.904408\n",
       "...                            ...         ...             ...        ...\n",
       "2020-12-27              290.509496  292.314847      -16.914866  28.648143\n",
       "2020-12-28              283.397666  290.509496       -1.805351  31.040838\n",
       "2020-12-29              290.697239  283.397666       -7.111830  30.157879\n",
       "2020-12-30              294.994366  290.697239        7.299573  30.102009\n",
       "2020-12-31              294.619568  294.994366        4.297127  29.467279\n",
       "\n",
       "[1825 rows x 4 columns]"
      ]
     },
     "execution_count": 137,
     "metadata": {},
     "output_type": "execute_result"
    }
   ],
   "source": [
    "tdl_model"
   ]
  },
  {
   "cell_type": "code",
   "execution_count": 133,
   "metadata": {},
   "outputs": [],
   "source": [
    "X_train = tdl_model[:'2016'].drop(['total_district_load'], axis = 1)\n",
    "y_train = tdl_model.loc[:'2016', 'total_district_load']\n",
    "X_test = tdl_model['2017'].drop(['total_district_load'], axis = 1)\n",
    "y_test = tdl_model.loc['2017', 'total_district_load']"
   ]
  },
  {
   "cell_type": "code",
   "execution_count": 136,
   "metadata": {},
   "outputs": [
    {
     "name": "stdout",
     "output_type": "stream",
     "text": [
      "LR: -0.544814 (3.029334)\n",
      "KNN: -0.056855 (1.162748)\n",
      "RF: 0.152095 (0.956163)\n"
     ]
    },
    {
     "data": {
      "image/png": "[encoded data removed]",
      "text/plain": [
       "<Figure size 432x288 with 1 Axes>"
      ]
     },
     "metadata": {
      "needs_background": "light"
     },
     "output_type": "display_data"
    }
   ],
   "source": [
    "from sklearn.model_selection import TimeSeriesSplit\n",
    "from sklearn.neighbors import KNeighborsRegressor\n",
    "from sklearn.ensemble import RandomForestRegressor\n",
    "from sklearn.model_selection import cross_val_score\n",
    "\n",
    "models = []\n",
    "models.append(('LR', LinearRegression()))\n",
    "models.append(('KNN', KNeighborsRegressor())) \n",
    "models.append(('RF', RandomForestRegressor(n_estimators = 10)))\n",
    "\n",
    "results = []\n",
    "names = []\n",
    "for name, model in models:\n",
    "#cross validation\n",
    " tscv = TimeSeriesSplit(n_splits=10)\n",
    "    \n",
    " cv_results = cross_val_score(model, X_train, y_train, cv=tscv, scoring='r2')\n",
    " results.append(cv_results)\n",
    " names.append(name)\n",
    " print('%s: %f (%f)' % (name, cv_results.mean(), cv_results.std()))\n",
    "    \n",
    "#plot for model comparison\n",
    "plt.boxplot(results, labels=names)\n",
    "plt.title('Model Comparison')\n",
    "plt.show()"
   ]
  },
  {
   "cell_type": "code",
   "execution_count": 145,
   "metadata": {},
   "outputs": [],
   "source": [
    "from sklearn.metrics import make_scorer\n",
    "def rmse(actual, predict):\n",
    "    predict = np.array(predict)\n",
    "    actual = np.array(actual)\n",
    "    distance = predict - actual\n",
    "    square_distance = distance ** 2\n",
    "    mean_square_distance = square_distance.mean()\n",
    "    score = np.sqrt(mean_square_distance)\n",
    "    return score\n",
    "rmse_score = make_scorer(rmse, greater_is_better = False)"
   ]
  },
  {
   "cell_type": "code",
   "execution_count": 146,
   "metadata": {},
   "outputs": [],
   "source": [
    "from sklearn.model_selection import GridSearchCV\n",
    "from sklearn.metrics import mean_squared_error\n",
    "\n",
    "model = RandomForestRegressor()\n",
    "param_search = { \n",
    "    'n_estimators': [20, 50, 100],\n",
    "    'max_features': ['auto', 'sqrt', 'log2'],\n",
    "    'max_depth' : [i for i in range(5,15)]\n",
    "}\n",
    "tscv = TimeSeriesSplit(n_splits=10)\n",
    "gsearch = GridSearchCV(estimator=model, cv=tscv, param_grid=param_search, scoring = rmse_score)\n",
    "gsearch.fit(X_train, y_train)\n",
    "best_score = gsearch.best_score_\n",
    "best_model = gsearch.best_estimator_"
   ]
  },
  {
   "cell_type": "code",
   "execution_count": 147,
   "metadata": {},
   "outputs": [
    {
     "name": "stdout",
     "output_type": "stream",
     "text": [
      "explained_variance:  0.9698\n",
      "mean_squared_log_error:  0.0026\n",
      "r2:  0.9637\n",
      "MAE:  8.6325\n",
      "MSE:  167.5186\n",
      "RMSE:  12.9429\n"
     ]
    }
   ],
   "source": [
    "y_true = y_test.values\n",
    "y_pred = best_model.predict(X_test)\n",
    "regression_results(y_true, y_pred)"
   ]
  },
  {
   "cell_type": "code",
   "execution_count": 148,
   "metadata": {},
   "outputs": [
    {
     "data": {
      "image/png": "[encoded data removed]",
      "text/plain": [
       "<Figure size 432x288 with 1 Axes>"
      ]
     },
     "metadata": {
      "needs_background": "light"
     },
     "output_type": "display_data"
    }
   ],
   "source": [
    "imp = best_model.feature_importances_\n",
    "features = X_train.columns\n",
    "indices = np.argsort(imp)\n",
    "plt.title('Feature Importance')\n",
    "plt.barh(range(len(indices)), imp[indices], color='b', align='center')\n",
    "plt.yticks(range(len(indices)), [features[i] for i in indices])\n",
    "plt.xlabel('Relative Importance')\n",
    "plt.show()"
   ]
  },
  {
   "cell_type": "code",
   "execution_count": null,
   "metadata": {},
   "outputs": [],
   "source": [
    "df.groupby('sub_category').total_district_load.sum().plot.barh(x='Location', y='total_district_load')"
   ]
  },
  {
   "cell_type": "code",
   "execution_count": null,
   "metadata": {},
   "outputs": [],
   "source": [
    "df.groupby('sub_loc').total_district_load.sum().plot.barh(x='Location', y='total_district_load')"
   ]
  },
  {
   "cell_type": "code",
   "execution_count": null,
   "metadata": {},
   "outputs": [],
   "source": [
    "plt.style.use('ggplot')\n",
    "\n",
    "x = ['2016', '2017', '2018', '2019', '2020']\n",
    "energy = [1421574, 1676599, 1660306, 1786752, 1722859]\n",
    "x_pos = [i for i, _ in enumerate(x)]\n",
    "plt.bar(x_pos, energy, color='green')\n",
    "plt.xlabel(\"Year\")\n",
    "plt.ylabel(\"Energy (MWH)\")\n",
    "plt.title(\"Total District Load by Year\")\n",
    "plt.xticks(x_pos, x)\n",
    "plt.show()"
   ]
  },
  {
   "cell_type": "code",
   "execution_count": null,
   "metadata": {},
   "outputs": [],
   "source": [
    "#subset substation locations\n",
    "dfa = df[df['sub_loc'] == 'a']\n",
    "dfb = df[df['sub_loc'] == 'b']\n",
    "dfc = df[df['sub_loc'] == 'c']\n",
    "dfd = df[df['sub_loc'] == 'd']"
   ]
  },
  {
   "cell_type": "code",
   "execution_count": null,
   "metadata": {},
   "outputs": [],
   "source": [
    "dfa"
   ]
  }
 ],
 "metadata": {
  "kernelspec": {
   "display_name": "Python 3",
   "language": "python",
   "name": "python3"
  },
  "language_info": {
   "codemirror_mode": {
    "name": "ipython",
    "version": 3
   },
   "file_extension": ".py",
   "mimetype": "text/x-python",
   "name": "python",
   "nbconvert_exporter": "python",
   "pygments_lexer": "ipython3",
   "version": "3.8.5"
  }
 },
 "nbformat": 4,
 "nbformat_minor": 4
}
